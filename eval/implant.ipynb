{
 "cells": [
  {
   "cell_type": "code",
   "execution_count": 1,
   "metadata": {},
   "outputs": [
    {
     "name": "stdout",
     "output_type": "stream",
     "text": [
      "0.96875\n"
     ]
    }
   ],
   "source": [
    "import numpy as np\n",
    "import matplotlib.pyplot as plt\n",
    "from sklearn.metrics import roc_curve, auc\n",
    "import pandas as pd\n",
    "import numpy as np\n",
    "\n",
    "\n",
    "df_implant = pd.read_csv(\"/mnt/hdd/PANO.arlen/google_sheet/PANO_implant.csv\")\n",
    "df_finding = pd.read_csv(\"/mnt/hdd/PANO.arlen/google_sheet/PANO_finding.csv\")\n",
    "df_result = pd.read_csv(\"/mnt/hdd/PANO.arlen/results/2023-07-23-014113/count_implant.csv\")\n",
    "\n",
    "df_finding.finding = df_finding.finding == \"IMPLANT\"\n",
    "df_golden = df_finding.groupby('file_name')['finding'].sum().reset_index()\n",
    "\n",
    "# remove exclude\n",
    "names_to_remove = df_implant.loc[df_implant[\"exclude\"] == True, \"file_name\"]\n",
    "df_golden = df_golden[~df_golden[\"file_name\"].isin(names_to_remove)]\n",
    "df_result = df_result[~df_result[\"file_name\"].isin(names_to_remove)]\n",
    "\n",
    "merged_df = df_golden.merge(df_result, on='file_name', how='left')\n",
    "\n",
    "acc = sum(merged_df[\"finding\"] == merged_df[\"num_implant\"])/len(merged_df)\n",
    "print(acc)"
   ]
  },
  {
   "cell_type": "code",
   "execution_count": 7,
   "metadata": {},
   "outputs": [],
   "source": [
    "wrong = merged_df.loc[merged_df[\"finding\"] != merged_df[\"num_implant\"], [\"file_name\", \"finding\", \"num_implant\"]]"
   ]
  },
  {
   "cell_type": "code",
   "execution_count": null,
   "metadata": {},
   "outputs": [],
   "source": []
  }
 ],
 "metadata": {
  "kernelspec": {
   "display_name": "eval",
   "language": "python",
   "name": "python3"
  },
  "language_info": {
   "codemirror_mode": {
    "name": "ipython",
    "version": 3
   },
   "file_extension": ".py",
   "mimetype": "text/x-python",
   "name": "python",
   "nbconvert_exporter": "python",
   "pygments_lexer": "ipython3",
   "version": "3.11.4"
  },
  "orig_nbformat": 4
 },
 "nbformat": 4,
 "nbformat_minor": 2
}
